{
 "cells": [
  {
   "cell_type": "code",
   "execution_count": 1,
   "metadata": {
    "ExecuteTime": {
     "end_time": "2019-08-04T06:44:23.804129Z",
     "start_time": "2019-08-04T06:44:18.587408Z"
    },
    "scrolled": true
   },
   "outputs": [
    {
     "name": "stderr",
     "output_type": "stream",
     "text": [
      "Using TensorFlow backend.\n",
      "/anaconda3/lib/python3.6/site-packages/tensorflow/python/framework/dtypes.py:516: FutureWarning: Passing (type, 1) or '1type' as a synonym of type is deprecated; in a future version of numpy, it will be understood as (type, (1,)) / '(1,)type'.\n",
      "  _np_qint8 = np.dtype([(\"qint8\", np.int8, 1)])\n",
      "/anaconda3/lib/python3.6/site-packages/tensorflow/python/framework/dtypes.py:517: FutureWarning: Passing (type, 1) or '1type' as a synonym of type is deprecated; in a future version of numpy, it will be understood as (type, (1,)) / '(1,)type'.\n",
      "  _np_quint8 = np.dtype([(\"quint8\", np.uint8, 1)])\n",
      "/anaconda3/lib/python3.6/site-packages/tensorflow/python/framework/dtypes.py:518: FutureWarning: Passing (type, 1) or '1type' as a synonym of type is deprecated; in a future version of numpy, it will be understood as (type, (1,)) / '(1,)type'.\n",
      "  _np_qint16 = np.dtype([(\"qint16\", np.int16, 1)])\n",
      "/anaconda3/lib/python3.6/site-packages/tensorflow/python/framework/dtypes.py:519: FutureWarning: Passing (type, 1) or '1type' as a synonym of type is deprecated; in a future version of numpy, it will be understood as (type, (1,)) / '(1,)type'.\n",
      "  _np_quint16 = np.dtype([(\"quint16\", np.uint16, 1)])\n",
      "/anaconda3/lib/python3.6/site-packages/tensorflow/python/framework/dtypes.py:520: FutureWarning: Passing (type, 1) or '1type' as a synonym of type is deprecated; in a future version of numpy, it will be understood as (type, (1,)) / '(1,)type'.\n",
      "  _np_qint32 = np.dtype([(\"qint32\", np.int32, 1)])\n",
      "/anaconda3/lib/python3.6/site-packages/tensorflow/python/framework/dtypes.py:525: FutureWarning: Passing (type, 1) or '1type' as a synonym of type is deprecated; in a future version of numpy, it will be understood as (type, (1,)) / '(1,)type'.\n",
      "  np_resource = np.dtype([(\"resource\", np.ubyte, 1)])\n",
      "/anaconda3/lib/python3.6/site-packages/tensorboard/compat/tensorflow_stub/dtypes.py:541: FutureWarning: Passing (type, 1) or '1type' as a synonym of type is deprecated; in a future version of numpy, it will be understood as (type, (1,)) / '(1,)type'.\n",
      "  _np_qint8 = np.dtype([(\"qint8\", np.int8, 1)])\n",
      "/anaconda3/lib/python3.6/site-packages/tensorboard/compat/tensorflow_stub/dtypes.py:542: FutureWarning: Passing (type, 1) or '1type' as a synonym of type is deprecated; in a future version of numpy, it will be understood as (type, (1,)) / '(1,)type'.\n",
      "  _np_quint8 = np.dtype([(\"quint8\", np.uint8, 1)])\n",
      "/anaconda3/lib/python3.6/site-packages/tensorboard/compat/tensorflow_stub/dtypes.py:543: FutureWarning: Passing (type, 1) or '1type' as a synonym of type is deprecated; in a future version of numpy, it will be understood as (type, (1,)) / '(1,)type'.\n",
      "  _np_qint16 = np.dtype([(\"qint16\", np.int16, 1)])\n",
      "/anaconda3/lib/python3.6/site-packages/tensorboard/compat/tensorflow_stub/dtypes.py:544: FutureWarning: Passing (type, 1) or '1type' as a synonym of type is deprecated; in a future version of numpy, it will be understood as (type, (1,)) / '(1,)type'.\n",
      "  _np_quint16 = np.dtype([(\"quint16\", np.uint16, 1)])\n",
      "/anaconda3/lib/python3.6/site-packages/tensorboard/compat/tensorflow_stub/dtypes.py:545: FutureWarning: Passing (type, 1) or '1type' as a synonym of type is deprecated; in a future version of numpy, it will be understood as (type, (1,)) / '(1,)type'.\n",
      "  _np_qint32 = np.dtype([(\"qint32\", np.int32, 1)])\n",
      "/anaconda3/lib/python3.6/site-packages/tensorboard/compat/tensorflow_stub/dtypes.py:550: FutureWarning: Passing (type, 1) or '1type' as a synonym of type is deprecated; in a future version of numpy, it will be understood as (type, (1,)) / '(1,)type'.\n",
      "  np_resource = np.dtype([(\"resource\", np.ubyte, 1)])\n"
     ]
    }
   ],
   "source": [
    "from sklearn.metrics import confusion_matrix, precision_score\n",
    "from sklearn.model_selection import train_test_split\n",
    "from keras.layers import Dense,Dropout\n",
    "from keras.models import Sequential\n",
    "from keras.regularizers import l2\n",
    "import matplotlib.pyplot as plt\n",
    "import pandas as pd\n",
    "import numpy as np"
   ]
  },
  {
   "cell_type": "code",
   "execution_count": 2,
   "metadata": {
    "ExecuteTime": {
     "end_time": "2019-08-04T06:45:34.133073Z",
     "start_time": "2019-08-04T06:45:33.931359Z"
    }
   },
   "outputs": [],
   "source": [
    "x = pd.read_csv('X_short.csv',index_col=0) # load the dataset\n",
    "y = pd.read_csv('y_short.csv',index_col=0)"
   ]
  },
  {
   "cell_type": "code",
   "execution_count": 3,
   "metadata": {
    "ExecuteTime": {
     "end_time": "2019-08-04T06:45:44.602200Z",
     "start_time": "2019-08-04T06:45:44.578172Z"
    }
   },
   "outputs": [],
   "source": [
    "x_train, x_test, y_train, y_test = train_test_split(x,y, test_size=0.20, random_state=0)\n"
   ]
  },
  {
   "cell_type": "code",
   "execution_count": 4,
   "metadata": {
    "ExecuteTime": {
     "end_time": "2019-08-04T06:45:50.855093Z",
     "start_time": "2019-08-04T06:45:50.848235Z"
    }
   },
   "outputs": [
    {
     "data": {
      "text/plain": [
       "((28628, 26), (28628, 1), (7157, 26), (7157, 1))"
      ]
     },
     "execution_count": 4,
     "metadata": {},
     "output_type": "execute_result"
    }
   ],
   "source": [
    "x_train.shape,y_train.shape,x_test.shape,y_test.shape"
   ]
  },
  {
   "cell_type": "code",
   "execution_count": 10,
   "metadata": {
    "ExecuteTime": {
     "end_time": "2019-08-04T06:47:43.893553Z",
     "start_time": "2019-08-04T06:47:43.766518Z"
    },
    "scrolled": false
   },
   "outputs": [],
   "source": [
    "#defifne a sequentail Model\n",
    "model = Sequential()\n",
    "\n",
    "#Hidden Layer-1\n",
    "model.add(Dense(100,activation='relu',input_dim=26,kernel_regularizer=l2(0.01)))\n",
    "model.add(Dropout(0.3, noise_shape=None, seed=None))\n",
    "\n",
    "#Hidden Layer-2\n",
    "model.add(Dense(100,activation = 'relu',kernel_regularizer=l2(0.01)))\n",
    "model.add(Dropout(0.3, noise_shape=None, seed=None))\n",
    "\n",
    "#Output layer\n",
    "model.add(Dense(1,activation='sigmoid'))"
   ]
  },
  {
   "cell_type": "code",
   "execution_count": 11,
   "metadata": {
    "ExecuteTime": {
     "end_time": "2019-08-04T06:47:44.406814Z",
     "start_time": "2019-08-04T06:47:44.332493Z"
    },
    "scrolled": true
   },
   "outputs": [],
   "source": [
    "model.compile(loss='binary_crossentropy',optimizer='adam',metrics=['accuracy'])\n"
   ]
  },
  {
   "cell_type": "code",
   "execution_count": 12,
   "metadata": {
    "ExecuteTime": {
     "end_time": "2019-08-04T06:47:44.926117Z",
     "start_time": "2019-08-04T06:47:44.920797Z"
    }
   },
   "outputs": [
    {
     "name": "stdout",
     "output_type": "stream",
     "text": [
      "_________________________________________________________________\n",
      "Layer (type)                 Output Shape              Param #   \n",
      "=================================================================\n",
      "dense_4 (Dense)              (None, 100)               2700      \n",
      "_________________________________________________________________\n",
      "dropout_3 (Dropout)          (None, 100)               0         \n",
      "_________________________________________________________________\n",
      "dense_5 (Dense)              (None, 100)               10100     \n",
      "_________________________________________________________________\n",
      "dropout_4 (Dropout)          (None, 100)               0         \n",
      "_________________________________________________________________\n",
      "dense_6 (Dense)              (None, 1)                 101       \n",
      "=================================================================\n",
      "Total params: 12,901\n",
      "Trainable params: 12,901\n",
      "Non-trainable params: 0\n",
      "_________________________________________________________________\n"
     ]
    }
   ],
   "source": [
    "model.summary()"
   ]
  },
  {
   "cell_type": "code",
   "execution_count": 15,
   "metadata": {
    "ExecuteTime": {
     "end_time": "2019-08-04T06:51:41.683197Z",
     "start_time": "2019-08-04T06:49:31.437878Z"
    },
    "scrolled": true
   },
   "outputs": [
    {
     "name": "stdout",
     "output_type": "stream",
     "text": [
      "Train on 28628 samples, validate on 7157 samples\n",
      "Epoch 1/50\n",
      "28628/28628 [==============================] - 3s 97us/step - loss: 4.1366 - acc: 0.7370 - val_loss: 4.2587 - val_acc: 0.7330\n",
      "Epoch 2/50\n",
      "28628/28628 [==============================] - 3s 99us/step - loss: 3.9774 - acc: 0.7353 - val_loss: 4.2594 - val_acc: 0.7326\n",
      "Epoch 3/50\n",
      "28628/28628 [==============================] - 3s 92us/step - loss: 3.8289 - acc: 0.7384 - val_loss: 4.2545 - val_acc: 0.7326\n",
      "Epoch 4/50\n",
      "28628/28628 [==============================] - 3s 94us/step - loss: 3.8301 - acc: 0.7384 - val_loss: 4.2533 - val_acc: 0.7326\n",
      "Epoch 5/50\n",
      "28628/28628 [==============================] - 3s 92us/step - loss: 3.2134 - acc: 0.7384 - val_loss: 4.2526 - val_acc: 0.7326\n",
      "Epoch 6/50\n",
      "28628/28628 [==============================] - 3s 92us/step - loss: 0.9726 - acc: 0.7384 - val_loss: 0.5817 - val_acc: 0.7326\n",
      "Epoch 7/50\n",
      "28628/28628 [==============================] - 3s 90us/step - loss: 0.5759 - acc: 0.7384 - val_loss: 0.5813 - val_acc: 0.7326\n",
      "Epoch 8/50\n",
      "28628/28628 [==============================] - 3s 91us/step - loss: 0.5755 - acc: 0.7384 - val_loss: 0.5811 - val_acc: 0.7326\n",
      "Epoch 9/50\n",
      "28628/28628 [==============================] - 3s 91us/step - loss: 0.5751 - acc: 0.7384 - val_loss: 0.5811 - val_acc: 0.7326\n",
      "Epoch 10/50\n",
      "28628/28628 [==============================] - 3s 93us/step - loss: 0.5751 - acc: 0.7384 - val_loss: 0.5809 - val_acc: 0.7326\n",
      "Epoch 11/50\n",
      "28628/28628 [==============================] - 3s 91us/step - loss: 0.5748 - acc: 0.7384 - val_loss: 0.5810 - val_acc: 0.7326\n",
      "Epoch 12/50\n",
      "28628/28628 [==============================] - 3s 91us/step - loss: 0.5749 - acc: 0.7384 - val_loss: 0.5808 - val_acc: 0.7326\n",
      "Epoch 13/50\n",
      "28628/28628 [==============================] - 3s 90us/step - loss: 0.5748 - acc: 0.7384 - val_loss: 0.5807 - val_acc: 0.7326\n",
      "Epoch 14/50\n",
      "28628/28628 [==============================] - 3s 91us/step - loss: 0.5748 - acc: 0.7384 - val_loss: 0.5807 - val_acc: 0.7326\n",
      "Epoch 15/50\n",
      "28628/28628 [==============================] - 3s 88us/step - loss: 0.5748 - acc: 0.7384 - val_loss: 0.5809 - val_acc: 0.7326\n",
      "Epoch 16/50\n",
      "28628/28628 [==============================] - 3s 88us/step - loss: 0.5747 - acc: 0.7384 - val_loss: 0.5807 - val_acc: 0.7326\n",
      "Epoch 17/50\n",
      "28628/28628 [==============================] - 3s 95us/step - loss: 0.5748 - acc: 0.7384 - val_loss: 0.5809 - val_acc: 0.7326\n",
      "Epoch 18/50\n",
      "28628/28628 [==============================] - 3s 107us/step - loss: 0.5748 - acc: 0.7384 - val_loss: 0.5808 - val_acc: 0.7326\n",
      "Epoch 19/50\n",
      "28628/28628 [==============================] - 3s 88us/step - loss: 0.5748 - acc: 0.7384 - val_loss: 0.5807 - val_acc: 0.7326\n",
      "Epoch 20/50\n",
      "28628/28628 [==============================] - 3s 88us/step - loss: 0.5748 - acc: 0.7384 - val_loss: 0.5808 - val_acc: 0.7326\n",
      "Epoch 21/50\n",
      "28628/28628 [==============================] - 3s 89us/step - loss: 0.5748 - acc: 0.7384 - val_loss: 0.5808 - val_acc: 0.7326\n",
      "Epoch 22/50\n",
      "28628/28628 [==============================] - 3s 90us/step - loss: 0.5748 - acc: 0.7384 - val_loss: 0.5807 - val_acc: 0.7326\n",
      "Epoch 23/50\n",
      "28628/28628 [==============================] - 3s 89us/step - loss: 0.5748 - acc: 0.7384 - val_loss: 0.5808 - val_acc: 0.7326\n",
      "Epoch 24/50\n",
      "28628/28628 [==============================] - 3s 88us/step - loss: 0.5748 - acc: 0.7384 - val_loss: 0.5809 - val_acc: 0.7326\n",
      "Epoch 25/50\n",
      "28628/28628 [==============================] - 3s 92us/step - loss: 0.5748 - acc: 0.7384 - val_loss: 0.5808 - val_acc: 0.7326\n",
      "Epoch 26/50\n",
      "28628/28628 [==============================] - 3s 92us/step - loss: 0.5748 - acc: 0.7384 - val_loss: 0.5807 - val_acc: 0.7326\n",
      "Epoch 27/50\n",
      "28628/28628 [==============================] - 3s 91us/step - loss: 0.5748 - acc: 0.7384 - val_loss: 0.5807 - val_acc: 0.7326\n",
      "Epoch 28/50\n",
      "28628/28628 [==============================] - 3s 89us/step - loss: 0.5748 - acc: 0.7384 - val_loss: 0.5808 - val_acc: 0.7326\n",
      "Epoch 29/50\n",
      "28628/28628 [==============================] - 3s 89us/step - loss: 0.5748 - acc: 0.7384 - val_loss: 0.5807 - val_acc: 0.7326\n",
      "Epoch 30/50\n",
      "28628/28628 [==============================] - 3s 91us/step - loss: 0.5748 - acc: 0.7384 - val_loss: 0.5809 - val_acc: 0.7326\n",
      "Epoch 31/50\n",
      "28628/28628 [==============================] - 3s 91us/step - loss: 0.5747 - acc: 0.7384 - val_loss: 0.5807 - val_acc: 0.7326\n",
      "Epoch 32/50\n",
      "28628/28628 [==============================] - 3s 90us/step - loss: 0.5748 - acc: 0.7384 - val_loss: 0.5807 - val_acc: 0.7326\n",
      "Epoch 33/50\n",
      "28628/28628 [==============================] - 3s 91us/step - loss: 0.5748 - acc: 0.7384 - val_loss: 0.5807 - val_acc: 0.7326\n",
      "Epoch 34/50\n",
      "28628/28628 [==============================] - 3s 93us/step - loss: 0.5748 - acc: 0.7384 - val_loss: 0.5808 - val_acc: 0.7326\n",
      "Epoch 35/50\n",
      "28628/28628 [==============================] - 3s 92us/step - loss: 0.5748 - acc: 0.7384 - val_loss: 0.5808 - val_acc: 0.7326\n",
      "Epoch 36/50\n",
      "28628/28628 [==============================] - 3s 90us/step - loss: 0.5748 - acc: 0.7384 - val_loss: 0.5807 - val_acc: 0.7326\n",
      "Epoch 37/50\n",
      "28628/28628 [==============================] - 3s 89us/step - loss: 0.5747 - acc: 0.7384 - val_loss: 0.5807 - val_acc: 0.7326\n",
      "Epoch 38/50\n",
      "28628/28628 [==============================] - 3s 92us/step - loss: 0.5748 - acc: 0.7384 - val_loss: 0.5807 - val_acc: 0.7326\n",
      "Epoch 39/50\n",
      "28628/28628 [==============================] - 3s 88us/step - loss: 0.5748 - acc: 0.7384 - val_loss: 0.5808 - val_acc: 0.7326\n",
      "Epoch 40/50\n",
      "28628/28628 [==============================] - 3s 89us/step - loss: 0.5748 - acc: 0.7384 - val_loss: 0.5807 - val_acc: 0.7326\n",
      "Epoch 41/50\n",
      "28628/28628 [==============================] - 3s 89us/step - loss: 0.5748 - acc: 0.7384 - val_loss: 0.5807 - val_acc: 0.7326\n",
      "Epoch 42/50\n",
      "28628/28628 [==============================] - 3s 92us/step - loss: 0.5748 - acc: 0.7384 - val_loss: 0.5808 - val_acc: 0.7326\n",
      "Epoch 43/50\n",
      "28628/28628 [==============================] - 3s 89us/step - loss: 0.5748 - acc: 0.7384 - val_loss: 0.5808 - val_acc: 0.7326\n",
      "Epoch 44/50\n",
      "28628/28628 [==============================] - 3s 88us/step - loss: 0.5748 - acc: 0.7384 - val_loss: 0.5807 - val_acc: 0.7326\n",
      "Epoch 45/50\n",
      "28628/28628 [==============================] - 3s 89us/step - loss: 0.5747 - acc: 0.7384 - val_loss: 0.5809 - val_acc: 0.7326\n",
      "Epoch 46/50\n",
      "28628/28628 [==============================] - 3s 90us/step - loss: 0.5748 - acc: 0.7384 - val_loss: 0.5807 - val_acc: 0.7326\n",
      "Epoch 47/50\n",
      "28628/28628 [==============================] - 3s 91us/step - loss: 0.5748 - acc: 0.7384 - val_loss: 0.5808 - val_acc: 0.7326\n",
      "Epoch 48/50\n",
      "28628/28628 [==============================] - 3s 89us/step - loss: 0.5748 - acc: 0.7384 - val_loss: 0.5808 - val_acc: 0.7326\n",
      "Epoch 49/50\n",
      "28628/28628 [==============================] - 3s 89us/step - loss: 0.5748 - acc: 0.7384 - val_loss: 0.5808 - val_acc: 0.7326\n",
      "Epoch 50/50\n",
      "28628/28628 [==============================] - 3s 88us/step - loss: 0.5747 - acc: 0.7384 - val_loss: 0.5809 - val_acc: 0.7326\n"
     ]
    }
   ],
   "source": [
    "model_output = model.fit(x_train,y_train,epochs=50,batch_size=20,verbose=1,validation_data=(x_test,y_test),)"
   ]
  },
  {
   "cell_type": "code",
   "execution_count": 16,
   "metadata": {
    "ExecuteTime": {
     "end_time": "2019-08-04T06:52:46.262344Z",
     "start_time": "2019-08-04T06:52:46.094190Z"
    }
   },
   "outputs": [],
   "source": [
    "y_pred = model.predict(x_test)\n",
    "rounded = [round(x[0]) for x in y_pred]\n",
    "y_pred1 = np.array(rounded,dtype='int64')"
   ]
  },
  {
   "cell_type": "code",
   "execution_count": 17,
   "metadata": {
    "ExecuteTime": {
     "end_time": "2019-08-04T06:52:50.319397Z",
     "start_time": "2019-08-04T06:52:50.304603Z"
    }
   },
   "outputs": [
    {
     "data": {
      "text/plain": [
       "array([[   0, 1914],\n",
       "       [   0, 5243]])"
      ]
     },
     "execution_count": 17,
     "metadata": {},
     "output_type": "execute_result"
    }
   ],
   "source": [
    "confusion_matrix(y_test,y_pred1)\n"
   ]
  },
  {
   "cell_type": "code",
   "execution_count": 18,
   "metadata": {
    "ExecuteTime": {
     "end_time": "2019-08-04T06:52:56.516586Z",
     "start_time": "2019-08-04T06:52:56.507076Z"
    }
   },
   "outputs": [
    {
     "data": {
      "text/plain": [
       "0.7325695123655163"
      ]
     },
     "execution_count": 18,
     "metadata": {},
     "output_type": "execute_result"
    }
   ],
   "source": [
    "precision_score(y_test,y_pred1)\n"
   ]
  },
  {
   "cell_type": "code",
   "execution_count": null,
   "metadata": {},
   "outputs": [],
   "source": []
  }
 ],
 "metadata": {
  "kernelspec": {
   "display_name": "Python 3",
   "language": "python",
   "name": "python3"
  },
  "language_info": {
   "codemirror_mode": {
    "name": "ipython",
    "version": 3
   },
   "file_extension": ".py",
   "mimetype": "text/x-python",
   "name": "python",
   "nbconvert_exporter": "python",
   "pygments_lexer": "ipython3",
   "version": "3.6.8"
  },
  "latex_envs": {
   "LaTeX_envs_menu_present": true,
   "autoclose": false,
   "autocomplete": true,
   "bibliofile": "biblio.bib",
   "cite_by": "apalike",
   "current_citInitial": 1,
   "eqLabelWithNumbers": true,
   "eqNumInitial": 1,
   "hotkeys": {
    "equation": "Ctrl-E",
    "itemize": "Ctrl-I"
   },
   "labels_anchors": false,
   "latex_user_defs": false,
   "report_style_numbering": false,
   "user_envs_cfg": false
  },
  "toc": {
   "base_numbering": 1,
   "nav_menu": {},
   "number_sections": true,
   "sideBar": true,
   "skip_h1_title": false,
   "title_cell": "Table of Contents",
   "title_sidebar": "Contents",
   "toc_cell": false,
   "toc_position": {},
   "toc_section_display": true,
   "toc_window_display": false
  },
  "varInspector": {
   "cols": {
    "lenName": 16,
    "lenType": 16,
    "lenVar": 40
   },
   "kernels_config": {
    "python": {
     "delete_cmd_postfix": "",
     "delete_cmd_prefix": "del ",
     "library": "var_list.py",
     "varRefreshCmd": "print(var_dic_list())"
    },
    "r": {
     "delete_cmd_postfix": ") ",
     "delete_cmd_prefix": "rm(",
     "library": "var_list.r",
     "varRefreshCmd": "cat(var_dic_list()) "
    }
   },
   "types_to_exclude": [
    "module",
    "function",
    "builtin_function_or_method",
    "instance",
    "_Feature"
   ],
   "window_display": false
  }
 },
 "nbformat": 4,
 "nbformat_minor": 2
}
